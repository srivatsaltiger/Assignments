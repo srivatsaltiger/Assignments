{
 "cells": [
  {
   "cell_type": "code",
   "execution_count": 1,
   "metadata": {},
   "outputs": [
    {
     "name": "stdout",
     "output_type": "stream",
     "text": [
      "   Store  Year  Month Super Division     Sales       SGM           Store Open  \\\n",
      "0      1  2015      2          GIRLS  63635.80  35692.09  1991-03-01 00:00:00   \n",
      "1      1  2015      2           BOYS  20872.93  15691.34  1991-03-01 00:00:00   \n",
      "2      1  2015      2    ACCESSORIES  38717.03  23866.25  1991-03-01 00:00:00   \n",
      "3      1  2015      2           KIDS  11455.00  12110.00  1991-03-01 00:00:00   \n",
      "4      1  2015      3          GIRLS  67507.77  42237.79  1991-03-01 00:00:00   \n",
      "\n",
      "     Store Close Outlet Type State Climate  Total Sq Ft  \\\n",
      "0  No Close date      Outlet    A1  Frigid       4735.0   \n",
      "1  No Close date      Outlet    A1  Frigid       4735.0   \n",
      "2  No Close date      Outlet    A1  Frigid       4735.0   \n",
      "3  No Close date      Outlet    A1  Frigid       4735.0   \n",
      "4  No Close date      Outlet    A1  Frigid       4735.0   \n",
      "\n",
      "  Store Modification Date Store Modification  \n",
      "0     2011-10-06 00:00:00         relocation  \n",
      "1     2011-10-06 00:00:00         relocation  \n",
      "2     2011-10-06 00:00:00         relocation  \n",
      "3     2011-10-06 00:00:00         relocation  \n",
      "4     2011-10-06 00:00:00         relocation  \n"
     ]
    }
   ],
   "source": [
    "import pandas as pd\n",
    "\n",
    "# Specify the file path\n",
    "file_path = r\"C:\\Users\\SRIVATSAL NARAYAN\\Desktop\\tiger\\asign3.csv\"\n",
    "\n",
    "# Load the CSV file into a DataFrame\n",
    "data = pd.read_csv(file_path)\n",
    "\n",
    "# Display the first few rows of the DataFrame\n",
    "print(data.head())\n"
   ]
  },
  {
   "cell_type": "code",
   "execution_count": 3,
   "metadata": {},
   "outputs": [
    {
     "data": {
      "text/html": [
       "<div>\n",
       "<style scoped>\n",
       "    .dataframe tbody tr th:only-of-type {\n",
       "        vertical-align: middle;\n",
       "    }\n",
       "\n",
       "    .dataframe tbody tr th {\n",
       "        vertical-align: top;\n",
       "    }\n",
       "\n",
       "    .dataframe thead th {\n",
       "        text-align: right;\n",
       "    }\n",
       "</style>\n",
       "<table border=\"1\" class=\"dataframe\">\n",
       "  <thead>\n",
       "    <tr style=\"text-align: right;\">\n",
       "      <th></th>\n",
       "      <th>Store</th>\n",
       "      <th>Year</th>\n",
       "      <th>Month</th>\n",
       "      <th>Super Division</th>\n",
       "      <th>Sales</th>\n",
       "      <th>SGM</th>\n",
       "      <th>Store Open</th>\n",
       "      <th>Store Close</th>\n",
       "      <th>Outlet Type</th>\n",
       "      <th>State</th>\n",
       "      <th>Climate</th>\n",
       "      <th>Total Sq Ft</th>\n",
       "      <th>Store Modification Date</th>\n",
       "      <th>Store Modification</th>\n",
       "    </tr>\n",
       "  </thead>\n",
       "  <tbody>\n",
       "    <tr>\n",
       "      <th>0</th>\n",
       "      <td>1</td>\n",
       "      <td>2015</td>\n",
       "      <td>2</td>\n",
       "      <td>GIRLS</td>\n",
       "      <td>63635.80</td>\n",
       "      <td>35692.09</td>\n",
       "      <td>1991-03-01 00:00:00</td>\n",
       "      <td>No Close date</td>\n",
       "      <td>Outlet</td>\n",
       "      <td>A1</td>\n",
       "      <td>Frigid</td>\n",
       "      <td>4735.0</td>\n",
       "      <td>2011-10-06 00:00:00</td>\n",
       "      <td>relocation</td>\n",
       "    </tr>\n",
       "    <tr>\n",
       "      <th>1</th>\n",
       "      <td>1</td>\n",
       "      <td>2015</td>\n",
       "      <td>2</td>\n",
       "      <td>BOYS</td>\n",
       "      <td>20872.93</td>\n",
       "      <td>15691.34</td>\n",
       "      <td>1991-03-01 00:00:00</td>\n",
       "      <td>No Close date</td>\n",
       "      <td>Outlet</td>\n",
       "      <td>A1</td>\n",
       "      <td>Frigid</td>\n",
       "      <td>4735.0</td>\n",
       "      <td>2011-10-06 00:00:00</td>\n",
       "      <td>relocation</td>\n",
       "    </tr>\n",
       "    <tr>\n",
       "      <th>2</th>\n",
       "      <td>1</td>\n",
       "      <td>2015</td>\n",
       "      <td>2</td>\n",
       "      <td>ACCESSORIES</td>\n",
       "      <td>38717.03</td>\n",
       "      <td>23866.25</td>\n",
       "      <td>1991-03-01 00:00:00</td>\n",
       "      <td>No Close date</td>\n",
       "      <td>Outlet</td>\n",
       "      <td>A1</td>\n",
       "      <td>Frigid</td>\n",
       "      <td>4735.0</td>\n",
       "      <td>2011-10-06 00:00:00</td>\n",
       "      <td>relocation</td>\n",
       "    </tr>\n",
       "    <tr>\n",
       "      <th>3</th>\n",
       "      <td>1</td>\n",
       "      <td>2015</td>\n",
       "      <td>2</td>\n",
       "      <td>KIDS</td>\n",
       "      <td>11455.00</td>\n",
       "      <td>12110.00</td>\n",
       "      <td>1991-03-01 00:00:00</td>\n",
       "      <td>No Close date</td>\n",
       "      <td>Outlet</td>\n",
       "      <td>A1</td>\n",
       "      <td>Frigid</td>\n",
       "      <td>4735.0</td>\n",
       "      <td>2011-10-06 00:00:00</td>\n",
       "      <td>relocation</td>\n",
       "    </tr>\n",
       "    <tr>\n",
       "      <th>4</th>\n",
       "      <td>1</td>\n",
       "      <td>2015</td>\n",
       "      <td>3</td>\n",
       "      <td>GIRLS</td>\n",
       "      <td>67507.77</td>\n",
       "      <td>42237.79</td>\n",
       "      <td>1991-03-01 00:00:00</td>\n",
       "      <td>No Close date</td>\n",
       "      <td>Outlet</td>\n",
       "      <td>A1</td>\n",
       "      <td>Frigid</td>\n",
       "      <td>4735.0</td>\n",
       "      <td>2011-10-06 00:00:00</td>\n",
       "      <td>relocation</td>\n",
       "    </tr>\n",
       "  </tbody>\n",
       "</table>\n",
       "</div>"
      ],
      "text/plain": [
       "   Store  Year  Month Super Division     Sales       SGM           Store Open  \\\n",
       "0      1  2015      2          GIRLS  63635.80  35692.09  1991-03-01 00:00:00   \n",
       "1      1  2015      2           BOYS  20872.93  15691.34  1991-03-01 00:00:00   \n",
       "2      1  2015      2    ACCESSORIES  38717.03  23866.25  1991-03-01 00:00:00   \n",
       "3      1  2015      2           KIDS  11455.00  12110.00  1991-03-01 00:00:00   \n",
       "4      1  2015      3          GIRLS  67507.77  42237.79  1991-03-01 00:00:00   \n",
       "\n",
       "     Store Close Outlet Type State Climate  Total Sq Ft  \\\n",
       "0  No Close date      Outlet    A1  Frigid       4735.0   \n",
       "1  No Close date      Outlet    A1  Frigid       4735.0   \n",
       "2  No Close date      Outlet    A1  Frigid       4735.0   \n",
       "3  No Close date      Outlet    A1  Frigid       4735.0   \n",
       "4  No Close date      Outlet    A1  Frigid       4735.0   \n",
       "\n",
       "  Store Modification Date Store Modification  \n",
       "0     2011-10-06 00:00:00         relocation  \n",
       "1     2011-10-06 00:00:00         relocation  \n",
       "2     2011-10-06 00:00:00         relocation  \n",
       "3     2011-10-06 00:00:00         relocation  \n",
       "4     2011-10-06 00:00:00         relocation  "
      ]
     },
     "execution_count": 3,
     "metadata": {},
     "output_type": "execute_result"
    }
   ],
   "source": [
    "data.head()\n"
   ]
  },
  {
   "cell_type": "code",
   "execution_count": 7,
   "metadata": {},
   "outputs": [
    {
     "name": "stdout",
     "output_type": "stream",
     "text": [
      "\n",
      "DataFrame Info:\n",
      "<class 'pandas.core.frame.DataFrame'>\n",
      "RangeIndex: 181237 entries, 0 to 181236\n",
      "Data columns (total 14 columns):\n",
      " #   Column                   Non-Null Count   Dtype  \n",
      "---  ------                   --------------   -----  \n",
      " 0   Store                    181237 non-null  int64  \n",
      " 1   Year                     181237 non-null  int64  \n",
      " 2   Month                    181237 non-null  int64  \n",
      " 3   Super Division           181237 non-null  object \n",
      " 4   Sales                    181237 non-null  float64\n",
      " 5   SGM                      181237 non-null  float64\n",
      " 6   Store Open               181237 non-null  object \n",
      " 7   Store Close              181237 non-null  object \n",
      " 8   Outlet Type              181237 non-null  object \n",
      " 9   State                    181237 non-null  object \n",
      " 10  Climate                  181237 non-null  object \n",
      " 11  Total Sq Ft              181237 non-null  float64\n",
      " 12  Store Modification Date  181237 non-null  object \n",
      " 13  Store Modification       181237 non-null  object \n",
      "dtypes: float64(3), int64(3), object(8)\n",
      "memory usage: 19.4+ MB\n",
      "None\n",
      "\n",
      "Row and Column Names:\n",
      "Row names (index): RangeIndex(start=0, stop=181237, step=1)\n",
      "Column names: Index(['Store', 'Year', 'Month', 'Super Division', 'Sales', 'SGM',\n",
      "       'Store Open', 'Store Close', 'Outlet Type', 'State', 'Climate',\n",
      "       'Total Sq Ft', 'Store Modification Date', 'Store Modification'],\n",
      "      dtype='object')\n",
      "\n",
      "Null Values in Each Column:\n",
      "Store                      0\n",
      "Year                       0\n",
      "Month                      0\n",
      "Super Division             0\n",
      "Sales                      0\n",
      "SGM                        0\n",
      "Store Open                 0\n",
      "Store Close                0\n",
      "Outlet Type                0\n",
      "State                      0\n",
      "Climate                    0\n",
      "Total Sq Ft                0\n",
      "Store Modification Date    0\n",
      "Store Modification         0\n",
      "dtype: int64\n",
      "\n",
      "Data Types of Each Column:\n",
      "Store                        int64\n",
      "Year                         int64\n",
      "Month                        int64\n",
      "Super Division              object\n",
      "Sales                      float64\n",
      "SGM                        float64\n",
      "Store Open                  object\n",
      "Store Close                 object\n",
      "Outlet Type                 object\n",
      "State                       object\n",
      "Climate                     object\n",
      "Total Sq Ft                float64\n",
      "Store Modification Date     object\n",
      "Store Modification          object\n",
      "dtype: object\n",
      "\n",
      "Basic Statistics:\n",
      "               Store           Year          Month          Sales  \\\n",
      "count  181237.000000  181237.000000  181237.000000  181237.000000   \n",
      "mean      384.786247    2017.042243       6.500781   44981.200342   \n",
      "std       226.427532       1.419958       3.450774   29042.029743   \n",
      "min         1.000000    2015.000000       1.000000    9929.110000   \n",
      "25%       190.000000    2016.000000       4.000000   26505.200000   \n",
      "50%       380.000000    2017.000000       6.000000   39348.820000   \n",
      "75%       571.000000    2018.000000       9.000000   58754.470000   \n",
      "max       830.000000    2020.000000      12.000000  474179.330000   \n",
      "\n",
      "                 SGM    Total Sq Ft  \n",
      "count  181237.000000  181237.000000  \n",
      "mean    29116.026854    6332.595986  \n",
      "std     15277.355343    1372.825105  \n",
      "min    -19572.930000    2980.500000  \n",
      "25%     19042.770000    5290.500000  \n",
      "50%     26264.270000    6018.700000  \n",
      "75%     35949.540000    7492.700000  \n",
      "max    277007.600000   11690.300000  \n"
     ]
    }
   ],
   "source": [
    "print(\"\\nDataFrame Info:\")\n",
    "print(data.info())\n",
    "print(\"\\nRow and Column Names:\")\n",
    "print(\"Row names (index):\", data.index)\n",
    "print(\"Column names:\", data.columns)\n",
    "# Check for null values\n",
    "print(\"\\nNull Values in Each Column:\")\n",
    "print(data.isnull().sum())\n",
    "\n",
    "# Display the data types of each column\n",
    "print(\"\\nData Types of Each Column:\")\n",
    "print(data.dtypes)\n",
    "\n",
    "# Display basic statistics for numerical columns\n",
    "print(\"\\nBasic Statistics:\")\n",
    "print(data.describe())"
   ]
  },
  {
   "cell_type": "markdown",
   "metadata": {},
   "source": [
    "Total Sales by Year"
   ]
  },
  {
   "cell_type": "code",
   "execution_count": 9,
   "metadata": {},
   "outputs": [
    {
     "name": "stdout",
     "output_type": "stream",
     "text": [
      "Total Sales by Year:\n",
      "Year\n",
      "2015    1.627585e+09\n",
      "2016    1.843939e+09\n",
      "2017    1.651322e+09\n",
      "2018    1.492340e+09\n",
      "2019    1.471963e+09\n",
      "2020    6.510899e+07\n",
      "Name: Sales, dtype: float64\n"
     ]
    }
   ],
   "source": [
    "# Calculate total sales by year\n",
    "total_sales_by_year = data.groupby('Year')['Sales'].sum()\n",
    "\n",
    "print(\"Total Sales by Year:\")\n",
    "print(total_sales_by_year)\n",
    "\n"
   ]
  },
  {
   "cell_type": "markdown",
   "metadata": {},
   "source": [
    "Number of Stores Opened in 1991\n"
   ]
  },
  {
   "cell_type": "code",
   "execution_count": 10,
   "metadata": {},
   "outputs": [
    {
     "name": "stdout",
     "output_type": "stream",
     "text": [
      "Number of Stores Opened in 1991: 819\n"
     ]
    }
   ],
   "source": [
    "# Convert 'Store Open' to datetime if not already\n",
    "data['Store Open'] = pd.to_datetime(data['Store Open'])\n",
    "\n",
    "# Count stores opened in 1991\n",
    "stores_opened_1991 = data[data['Store Open'].dt.year == 1991].shape[0]\n",
    "\n",
    "print(\"Number of Stores Opened in 1991:\", stores_opened_1991)\n"
   ]
  },
  {
   "cell_type": "markdown",
   "metadata": {},
   "source": [
    "Count the number of stores that were remodeled during the period by checking"
   ]
  },
  {
   "cell_type": "code",
   "execution_count": 11,
   "metadata": {},
   "outputs": [
    {
     "name": "stdout",
     "output_type": "stream",
     "text": [
      "Number of Stores Remodeled: 181237\n"
     ]
    }
   ],
   "source": [
    "# Count remodeled stores\n",
    "remodeled_stores = data[data['Store Modification'] != 'No Modifications'].shape[0]\n",
    "\n",
    "print(\"Number of Stores Remodeled:\", remodeled_stores)\n"
   ]
  },
  {
   "cell_type": "markdown",
   "metadata": {},
   "source": [
    "Relationship Between Sales and Total Sq Ft\n"
   ]
  },
  {
   "cell_type": "code",
   "execution_count": 12,
   "metadata": {},
   "outputs": [
    {
     "name": "stdout",
     "output_type": "stream",
     "text": [
      "Correlation between Sales and Total Sq Ft: 0.13922544019446761\n"
     ]
    }
   ],
   "source": [
    "# Calculate correlation between Sales and Total Sq Ft\n",
    "correlation = data['Sales'].corr(data['Total Sq Ft'])\n",
    "\n",
    "print(\"Correlation between Sales and Total Sq Ft:\", correlation)\n"
   ]
  },
  {
   "cell_type": "markdown",
   "metadata": {},
   "source": [
    "Most Profitable Super Division\n"
   ]
  },
  {
   "cell_type": "code",
   "execution_count": 13,
   "metadata": {},
   "outputs": [
    {
     "name": "stdout",
     "output_type": "stream",
     "text": [
      "Most Profitable Super Division: GIRLS\n"
     ]
    }
   ],
   "source": [
    "# Calculate average sales by super division\n",
    "average_sales_by_division = data.groupby('Super Division')['Sales'].mean()\n",
    "\n",
    "most_profitable_division = average_sales_by_division.idxmax()\n",
    "\n",
    "print(\"Most Profitable Super Division:\", most_profitable_division)\n"
   ]
  },
  {
   "cell_type": "markdown",
   "metadata": {},
   "source": [
    "Active Stores\n"
   ]
  },
  {
   "cell_type": "code",
   "execution_count": 14,
   "metadata": {},
   "outputs": [
    {
     "name": "stdout",
     "output_type": "stream",
     "text": [
      "Number of Active Stores: 157484\n"
     ]
    },
    {
     "name": "stderr",
     "output_type": "stream",
     "text": [
      "C:\\Users\\SRIVATSAL NARAYAN\\AppData\\Local\\Temp\\ipykernel_22436\\1260578028.py:2: UserWarning: Could not infer format, so each element will be parsed individually, falling back to `dateutil`. To ensure parsing is consistent and as-expected, please specify a format.\n",
      "  data['Store Close'] = pd.to_datetime(data['Store Close'], errors='coerce')\n"
     ]
    }
   ],
   "source": [
    "# Convert 'Store Close' to datetime\n",
    "data['Store Close'] = pd.to_datetime(data['Store Close'], errors='coerce')\n",
    "\n",
    "# Count active stores (Store Close is null or in the future)\n",
    "active_stores = data[data['Store Close'].isnull() | (data['Store Close'] > pd.Timestamp.now())].shape[0]\n",
    "\n",
    "print(\"Number of Active Stores:\", active_stores)\n"
   ]
  },
  {
   "cell_type": "markdown",
   "metadata": {},
   "source": [
    "Super Division with More Sq Ft\n"
   ]
  },
  {
   "cell_type": "code",
   "execution_count": 15,
   "metadata": {},
   "outputs": [
    {
     "name": "stdout",
     "output_type": "stream",
     "text": [
      "Super Division with More Sq Ft on Average: KIDS\n"
     ]
    }
   ],
   "source": [
    "# Calculate average square footage by super division\n",
    "avg_sq_ft_by_division = data.groupby('Super Division')['Total Sq Ft'].mean()\n",
    "\n",
    "largest_sq_ft_division = avg_sq_ft_by_division.idxmax()\n",
    "\n",
    "print(\"Super Division with More Sq Ft on Average:\", largest_sq_ft_division)\n"
   ]
  },
  {
   "cell_type": "markdown",
   "metadata": {},
   "source": [
    "Advanced Insights"
   ]
  },
  {
   "cell_type": "markdown",
   "metadata": {},
   "source": [
    "Top 3 Potential Candidate States"
   ]
  },
  {
   "cell_type": "code",
   "execution_count": 17,
   "metadata": {},
   "outputs": [
    {
     "name": "stdout",
     "output_type": "stream",
     "text": [
      "Top 3 Potential Candidate States: ['E4', 'B6', 'B5']\n"
     ]
    }
   ],
   "source": [
    "\n",
    "top_states = data.groupby('State')['Sales'].mean().nlargest(3).index.tolist()\n",
    "\n",
    "print(\"Top 3 Potential Candidate States:\", top_states)\n"
   ]
  },
  {
   "cell_type": "markdown",
   "metadata": {},
   "source": [
    "Best Time of Year to Open a Store\n"
   ]
  },
  {
   "cell_type": "code",
   "execution_count": 18,
   "metadata": {},
   "outputs": [
    {
     "name": "stdout",
     "output_type": "stream",
     "text": [
      "Best Time of Year to Open a Store: 12\n"
     ]
    }
   ],
   "source": [
    "# Calculate average sales by month to determine trends\n",
    "average_sales_by_month = data.groupby('Month')['Sales'].mean()\n",
    "\n",
    "best_month_to_open = average_sales_by_month.idxmax()\n",
    "\n",
    "print(\"Best Time of Year to Open a Store:\", best_month_to_open)\n"
   ]
  },
  {
   "cell_type": "markdown",
   "metadata": {},
   "source": [
    "Outlet-Type Effects on Store Closures\n"
   ]
  },
  {
   "cell_type": "code",
   "execution_count": 19,
   "metadata": {},
   "outputs": [
    {
     "name": "stdout",
     "output_type": "stream",
     "text": [
      "Outlet-Type Effects on Store Closures:\n",
      "Outlet Type\n",
      "Mall      0.059397\n",
      "Outlet    0.225496\n",
      "Strip     0.187519\n",
      "Name: Store Close, dtype: float64\n"
     ]
    }
   ],
   "source": [
    "# Analyze closures by outlet type\n",
    "closure_rates_by_type = data.groupby('Outlet Type')['Store Close'].apply(lambda x: x.notnull().mean())\n",
    "\n",
    "print(\"Outlet-Type Effects on Store Closures:\")\n",
    "print(closure_rates_by_type)\n"
   ]
  },
  {
   "cell_type": "markdown",
   "metadata": {},
   "source": [
    "Additional"
   ]
  },
  {
   "cell_type": "markdown",
   "metadata": {},
   "source": [
    "Sales Performance by Region\n"
   ]
  },
  {
   "cell_type": "code",
   "execution_count": 20,
   "metadata": {},
   "outputs": [
    {
     "data": {
      "image/png": "[encoded data removed]",
      "text/plain": [
       "<Figure size 1400x600 with 1 Axes>"
      ]
     },
     "metadata": {},
     "output_type": "display_data"
    }
   ],
   "source": [
    "# Assuming 'State' as a proxy for region\n",
    "import matplotlib.pyplot as plt\n",
    "\n",
    "# Calculate total sales by state\n",
    "sales_by_state = data.groupby('State')['Sales'].sum()\n",
    "\n",
    "# Plot sales distribution across states\n",
    "plt.figure(figsize=(14, 6))\n",
    "sales_by_state.plot(kind='bar', color='skyblue')\n",
    "plt.title('Total Sales by State')\n",
    "plt.xlabel('State')\n",
    "plt.ylabel('Total Sales')\n",
    "plt.xticks(rotation=45)\n",
    "plt.tight_layout()\n",
    "plt.show()\n"
   ]
  },
  {
   "cell_type": "markdown",
   "metadata": {},
   "source": [
    "Seasonal Sales Patterns"
   ]
  },
  {
   "cell_type": "code",
   "execution_count": 21,
   "metadata": {},
   "outputs": [
    {
     "data": {
      "image/png": "[encoded data removed]",
      "text/plain": [
       "<Figure size 1000x500 with 1 Axes>"
      ]
     },
     "metadata": {},
     "output_type": "display_data"
    }
   ],
   "source": [
    "# Calculate average sales by month\n",
    "average_sales_by_month = data.groupby('Month')['Sales'].mean()\n",
    "\n",
    "# Plot seasonal sales patterns\n",
    "plt.figure(figsize=(10, 5))\n",
    "average_sales_by_month.plot(kind='line', marker='o', color='purple')\n",
    "plt.title('Average Sales by Month')\n",
    "plt.xlabel('Month')\n",
    "plt.ylabel('Average Sales')\n",
    "plt.xticks(range(1, 13))\n",
    "plt.grid(True)\n",
    "plt.show()\n"
   ]
  },
  {
   "cell_type": "markdown",
   "metadata": {},
   "source": [
    "Predicting Sales Based on Store Characteristics"
   ]
  },
  {
   "cell_type": "code",
   "execution_count": 22,
   "metadata": {},
   "outputs": [
    {
     "name": "stdout",
     "output_type": "stream",
     "text": [
      "Linear Regression - Mean Squared Error: 314516300.14\n",
      "Linear Regression - R-squared: 0.63\n"
     ]
    }
   ],
   "source": [
    "from sklearn.model_selection import train_test_split\n",
    "from sklearn.linear_model import LinearRegression\n",
    "from sklearn.metrics import mean_squared_error, r2_score\n",
    "import pandas as pd\n",
    "\n",
    "# Load the data\n",
    "data = pd.read_csv('asign3.csv')\n",
    "\n",
    "# Select features and target variable\n",
    "X = data[['Total Sq Ft', 'Year', 'Month', 'Store']]\n",
    "y = data['Sales']\n",
    "\n",
    "# Encode categorical variables using one-hot encoding\n",
    "X = pd.get_dummies(data[['Total Sq Ft', 'Year', 'Month', 'Store', 'Super Division', 'Outlet Type']], drop_first=True)\n",
    "\n",
    "# Split the data into training and testing sets\n",
    "X_train, X_test, y_train, y_test = train_test_split(X, y, test_size=0.2, random_state=42)\n",
    "\n",
    "# Initialize and train the Linear Regression model\n",
    "linear_model = LinearRegression()\n",
    "linear_model.fit(X_train, y_train)\n",
    "\n",
    "# Make predictions\n",
    "y_pred = linear_model.predict(X_test)\n",
    "\n",
    "# Evaluate the model\n",
    "mse = mean_squared_error(y_test, y_pred)\n",
    "r2 = r2_score(y_test, y_pred)\n",
    "\n",
    "print(f\"Linear Regression - Mean Squared Error: {mse:.2f}\")\n",
    "print(f\"Linear Regression - R-squared: {r2:.2f}\")\n"
   ]
  },
  {
   "cell_type": "markdown",
   "metadata": {},
   "source": [
    "Predicting Store Gross Margin (SGM) Based on Other Factors"
   ]
  },
  {
   "cell_type": "code",
   "execution_count": 25,
   "metadata": {},
   "outputs": [
    {
     "name": "stderr",
     "output_type": "stream",
     "text": [
      "Training Random Forest: 100%|██████████| 1/1 [01:12<00:00, 72.71s/it]\n"
     ]
    },
    {
     "name": "stdout",
     "output_type": "stream",
     "text": [
      "Random Forest Regression - Mean Squared Error: 37979814.91\n",
      "Random Forest Regression - R-squared: 0.84\n"
     ]
    }
   ],
   "source": [
    "from sklearn.ensemble import RandomForestRegressor\n",
    "from sklearn.model_selection import train_test_split\n",
    "from sklearn.metrics import mean_squared_error, r2_score\n",
    "import pandas as pd\n",
    "import numpy as np\n",
    "from tqdm import tqdm\n",
    "\n",
    "# Load the data\n",
    "data = pd.read_csv('asign3.csv')\n",
    "\n",
    "# Select features and target variable\n",
    "X = data[['Total Sq Ft', 'Year', 'Month', 'Store', 'Super Division', 'Outlet Type']]\n",
    "y = data['SGM']\n",
    "\n",
    "# Encode categorical variables using one-hot encoding\n",
    "X = pd.get_dummies(X, drop_first=True)\n",
    "\n",
    "# Split the data into training and testing sets\n",
    "X_train, X_test, y_train, y_test = train_test_split(X, y, test_size=0.2, random_state=42)\n",
    "\n",
    "# Initialize the Random Forest Regressor\n",
    "rf_model = RandomForestRegressor(n_estimators=100, random_state=42)\n",
    "\n",
    "# Train the Random Forest with tqdm for progress tracking\n",
    "for _ in tqdm(range(1), desc=\"Training Random Forest\"):\n",
    "    rf_model.fit(X_train, y_train)\n",
    "\n",
    "# Make predictions\n",
    "y_pred = rf_model.predict(X_test)\n",
    "\n",
    "# Evaluate the model\n",
    "mse = mean_squared_error(y_test, y_pred)\n",
    "r2 = r2_score(y_test, y_pred)\n",
    "\n",
    "print(f\"Random Forest Regression - Mean Squared Error: {mse:.2f}\")\n",
    "print(f\"Random Forest Regression - R-squared: {r2:.2f}\")\n"
   ]
  },
  {
   "cell_type": "markdown",
   "metadata": {},
   "source": [
    "Predicting Sales with Polynomial Regression"
   ]
  },
  {
   "cell_type": "code",
   "execution_count": 28,
   "metadata": {},
   "outputs": [
    {
     "name": "stdout",
     "output_type": "stream",
     "text": [
      "Polynomial Regression - Mean Squared Error: 0.00\n",
      "Polynomial Regression - R-squared: 1.00\n"
     ]
    }
   ],
   "source": [
    "from sklearn.preprocessing import PolynomialFeatures\n",
    "from sklearn.pipeline import make_pipeline\n",
    "\n",
    "# Use PolynomialFeatures to transform the features\n",
    "poly_features = PolynomialFeatures(degree=2, include_bias=False)\n",
    "\n",
    "# Create a pipeline with polynomial features and linear regression\n",
    "poly_model = make_pipeline(poly_features, LinearRegression())\n",
    "\n",
    "# Train the polynomial regression model\n",
    "poly_model.fit(X_train, y_train)\n",
    "\n",
    "# Make predictions\n",
    "y_pred = poly_model.predict(X_test)\n",
    "\n",
    "# Evaluate the model\n",
    "mse = mean_squared_error(y_test, y_pred)\n",
    "r2 = r2_score(y_test, y_pred)\n",
    "\n",
    "print(f\"Polynomial Regression - Mean Squared Error: {mse:.2f}\")\n",
    "print(f\"Polynomial Regression - R-squared: {r2:.2f}\")\n"
   ]
  },
  {
   "cell_type": "code",
   "execution_count": null,
   "metadata": {},
   "outputs": [],
   "source": []
  }
 ],
 "metadata": {
  "kernelspec": {
   "display_name": "pytorch_env",
   "language": "python",
   "name": "python3"
  },
  "language_info": {
   "codemirror_mode": {
    "name": "ipython",
    "version": 3
   },
   "file_extension": ".py",
   "mimetype": "text/x-python",
   "name": "python",
   "nbconvert_exporter": "python",
   "pygments_lexer": "ipython3",
   "version": "3.8.19"
  }
 },
 "nbformat": 4,
 "nbformat_minor": 2
}
