{
 "cells": [
  {
   "cell_type": "code",
   "execution_count": 1,
   "metadata": {},
   "outputs": [
    {
     "name": "stdout",
     "output_type": "stream",
     "text": [
      "Hello world\n"
     ]
    }
   ],
   "source": [
    "print(\"Hello world\")"
   ]
  },
  {
   "cell_type": "markdown",
   "metadata": {},
   "source": [
    "Q1>Write a program which takes 2 digits, X,Y as input and generates a 2-dimensional array.\n",
    "The element value in the i-th row and j-th column of the array should be i*j.\n",
    "Note: i=0,1.., X-1; j=0,1,¡­Y-1.\n"
   ]
  },
  {
   "cell_type": "code",
   "execution_count": 2,
   "metadata": {},
   "outputs": [
    {
     "name": "stdout",
     "output_type": "stream",
     "text": [
      "Invalid input. Please enter positive integer values for X and Y separated by a comma.\n"
     ]
    }
   ],
   "source": [
    "def generate_2d_array(X, Y):\n",
    "    array = [[i * j for j in range(Y)] for i in range(X)]\n",
    "    return array\n",
    "\n",
    "input_str = input(\"Enter (X,Y)\")\n",
    "\n",
    "try:\n",
    "    X, Y = map(int, input_str.split(','))\n",
    "\n",
    "    if X <= 0 or Y <= 0:\n",
    "        print(\"Both X and Y should be positive integers.\")\n",
    "    else:\n",
    "        result = generate_2d_array(X, Y)\n",
    "\n",
    "        for row in result:\n",
    "            print(row)\n",
    "except ValueError:\n",
    "    print(\"Invalid input. Please enter positive integer values for X and Y separated by a comma.\")\n"
   ]
  },
  {
   "cell_type": "markdown",
   "metadata": {},
   "source": [
    "Question 2:\n",
    "Write a program that accepts a comma separated sequence of words as input and prints the words in a comma-separated sequence after sorting them alphabetically.\n",
    "Expected Input:\n",
    "without,hello,bag,world\n",
    "Expected Output:\n",
    "bag,hello,without,world\n",
    "Note:\n",
    " In case of taking data from the user, it should be in a comma-separated form.\n"
   ]
  },
  {
   "cell_type": "code",
   "execution_count": 3,
   "metadata": {},
   "outputs": [
    {
     "name": "stdout",
     "output_type": "stream",
     "text": [
      "O/P:- \n"
     ]
    }
   ],
   "source": [
    "input_str = input(\"Enter\")\n",
    "\n",
    "words = [word.strip() for word in input_str.split(',')]\n",
    "\n",
    "sorted_words = sorted(words)\n",
    "\n",
    "output_str = ','.join(sorted_words)\n",
    "\n",
    "print(\"O/P:-\", output_str)\n"
   ]
  },
  {
   "cell_type": "code",
   "execution_count": 4,
   "metadata": {},
   "outputs": [
    {
     "name": "stdout",
     "output_type": "stream",
     "text": [
      "O/p:- \n"
     ]
    }
   ],
   "source": [
    "input_str = input(\"Enter\")\n",
    "words = [word.strip() for word in input_str.split(',')]\n",
    "\n",
    "\n",
    "def bubble_sort(arr):\n",
    "    n=len(arr)\n",
    "    for i in range(n):\n",
    "        swapped =False\n",
    "        for j in range(n-i-1):\n",
    "            if arr[j]>arr[j+1]:\n",
    "                arr[j],arr[j+1]= arr[j+1],arr[j]\n",
    "                swapped =True\n",
    "        if not swapped :\n",
    "            break\n",
    "\n",
    "\n",
    "bubble_sort(words)\n",
    "\n",
    "output_str = ','.join(words)\n",
    "\n",
    "print(\"O/p:-\", output_str)\n"
   ]
  },
  {
   "cell_type": "markdown",
   "metadata": {},
   "source": [
    "Question 3:\n",
    "Write a program that accepts a sequence of whitespace separated words as input and prints the words after removing all duplicate words and sorting them alphanumerically.\n",
    "Expected Input:\n",
    "hello world and practice makes perfect and hello world again\n",
    "Expected Output:\n",
    "again and hello makes perfect practice world\n",
    "Note:\n",
    " In case of taking data from the user, it should be in a comma-separated form.\n"
   ]
  },
  {
   "cell_type": "code",
   "execution_count": 5,
   "metadata": {},
   "outputs": [
    {
     "name": "stdout",
     "output_type": "stream",
     "text": [
      "o/p:- \n"
     ]
    }
   ],
   "source": [
    "input_str = input(\"Enter\")\n",
    "\n",
    "words = input_str.split()\n",
    "unique_words = []\n",
    "[unique_words.append(word) for word in words if word not in unique_words]\n",
    "\n",
    "unique_words.sort()\n",
    "\n",
    "output_str = ' '.join(unique_words)\n",
    "\n",
    "print(\"o/p:-\", output_str)\n"
   ]
  },
  {
   "cell_type": "markdown",
   "metadata": {},
   "source": [
    "\n",
    "Question 4:\n",
    "Write a program, which will find all such numbers between 1000 and 3000 (both included) such that each digit of the number is an even number.\n",
    "The numbers obtained should be printed in a comma-separated sequence on a single line.\n",
    "Note:\n",
    " In case of taking data from the user, it should be in a comma-separated form.\n"
   ]
  },
  {
   "cell_type": "code",
   "execution_count": 6,
   "metadata": {},
   "outputs": [
    {
     "name": "stdout",
     "output_type": "stream",
     "text": [
      "Invalid\n"
     ]
    }
   ],
   "source": [
    "def even(start, end):\n",
    "    result = []\n",
    "\n",
    "    for num in range(start, end + 1):\n",
    "        num_str = str(num)\n",
    "        \n",
    "        if all(int(digit) % 2 == 0 for digit in num_str):\n",
    "            result.append(num_str)\n",
    "\n",
    "    output_str = ','.join(result)\n",
    "    return output_str\n",
    "\n",
    "try:\n",
    "    input_str = input(\"i/p\")\n",
    "\n",
    "    start, end = map(int, input_str.split(','))\n",
    "\n",
    "    if start <= end:\n",
    "        result = even(start, end)\n",
    "        print(result)\n",
    "    else:\n",
    "        print(\"invalid\")\n",
    "except ValueError:\n",
    "    print(\"Invalid\")\n"
   ]
  },
  {
   "cell_type": "markdown",
   "metadata": {},
   "source": [
    "Question 5:\n",
    "Write a program that accepts a sentence and calculate the number of letters and digits.\n",
    "Expected Input:\n",
    "hello world! 123\n",
    "Expected Output:\n",
    "LETTERS 10\n",
    "DIGITS 3\n",
    "Note:\n",
    "In case of taking data from the user, it should be in a comma-separated form.\n"
   ]
  },
  {
   "cell_type": "code",
   "execution_count": 7,
   "metadata": {},
   "outputs": [
    {
     "name": "stdout",
     "output_type": "stream",
     "text": [
      "LETTERS 0\n",
      "DIGITS 0\n"
     ]
    }
   ],
   "source": [
    "def count(sentence):\n",
    "    num_letters = 0\n",
    "    num_digits = 0\n",
    "\n",
    "    for char in sentence:\n",
    "        if char.isalpha(): \n",
    "            num_letters += 1\n",
    "        elif char.isdigit():  \n",
    "            num_digits += 1\n",
    "\n",
    "    return num_letters, num_digits\n",
    "\n",
    "try:\n",
    "    input_str = input(\"i/p\")\n",
    "\n",
    "    letters, digits = count(input_str)\n",
    "\n",
    "    print(\"LETTERS\", letters)\n",
    "    print(\"DIGITS\", digits)\n",
    "except ValueError:\n",
    "    print(\"Invalid\")\n"
   ]
  },
  {
   "cell_type": "markdown",
   "metadata": {},
   "source": [
    "Question 6:\n",
    "Write a program that accepts a sentence and calculate the number of upper case letters and lower case letters.\n",
    "Expected Input:\n",
    "Hello world!\n",
    "Expected Output:\n",
    "UPPER CASE 1\n",
    "LOWER CASE 9\n",
    "Note:\n",
    " In case of taking data from the user, it should be in a comma-separated form.\n"
   ]
  },
  {
   "cell_type": "code",
   "execution_count": 8,
   "metadata": {},
   "outputs": [
    {
     "name": "stdout",
     "output_type": "stream",
     "text": [
      "UPPER CASE 0\n",
      "LOWER CASE 0\n"
     ]
    }
   ],
   "source": [
    "def count(sentence):\n",
    "    upper_count = 0\n",
    "    lower_count = 0\n",
    "\n",
    "    for char in sentence:\n",
    "        if char.isupper():  \n",
    "            upper_count += 1\n",
    "        elif char.islower():  \n",
    "            lower_count += 1\n",
    "\n",
    "    return upper_count, lower_count\n",
    "\n",
    "try:\n",
    "    input_str = input(\"i/p\")\n",
    "\n",
    "    upper_count, lower_count = count(input_str)\n",
    "\n",
    "    # Print the results\n",
    "    print(\"UPPER CASE\", upper_count)\n",
    "    print(\"LOWER CASE\", lower_count)\n",
    "except ValueError:\n",
    "    print(\"Invalid\")\n"
   ]
  },
  {
   "cell_type": "markdown",
   "metadata": {},
   "source": [
    "Question 7:\n",
    "Write a program that computes the net amount of a bank account based a transaction log from console input. The transaction log format is shown as following:\n",
    "D 100\n",
    "W 200\n",
    "D means deposit while W means withdrawal.\n",
    "Expected Input:\n",
    "D 300\n",
    "D 300\n",
    "W 200\n",
    "D 100\n",
    "Expected Output:\n",
    "500\n",
    "Note:\n",
    "In case of taking data from the user, it should be in a comma-separated form.\n"
   ]
  },
  {
   "cell_type": "code",
   "execution_count": 9,
   "metadata": {},
   "outputs": [
    {
     "name": "stdout",
     "output_type": "stream",
     "text": [
      "0\n"
     ]
    }
   ],
   "source": [
    "def net(transactions):\n",
    "    net_amount = 0\n",
    "    for transaction in transactions:\n",
    "        transaction = transaction.strip() \n",
    "        if transaction:\n",
    "            action, amount = transaction.split()\n",
    "            amount = int(amount)\n",
    "            if action == 'D':\n",
    "                net_amount += amount\n",
    "            elif action == 'W':\n",
    "                net_amount -= amount\n",
    "    return net_amount\n",
    "\n",
    "if __name__ == \"__main__\":\n",
    "    input_data = input(\"i/p\").strip()\n",
    "    \n",
    "    transactions = input_data.split(',')\n",
    "    \n",
    "    net_amount = net(transactions)\n",
    "    \n",
    "\n",
    "    print(net_amount)\n"
   ]
  },
  {
   "cell_type": "markdown",
   "metadata": {},
   "source": [
    "Question 8:\n",
    "A website requires the users to input username and password to register. Write a program to check the validity of password input by users.\n",
    "Following are the criteria for checking the password:\n",
    "1. At least 1 letter between [a-z]\n",
    "2. At least 1 number between [0-9]\n",
    "1. At least 1 letter between [A-Z]\n",
    "3. At least 1 character from [$#@]\n",
    "4. Minimum length of transaction password: 6\n",
    "5. Maximum length of transaction password: 12\n",
    "Passwords that match the criteria are to be printed, each separated by a comma.\n",
    "Expected Input:\n",
    "ABd1234@1,a F1#,2w3E*,2We3345\n",
    "Expected Output:\n",
    "ABd1234@1\n",
    "Note:\n",
    "In case of taking data from the user, it should be in a comma-separated form.\n"
   ]
  },
  {
   "cell_type": "code",
   "execution_count": 10,
   "metadata": {},
   "outputs": [],
   "source": [
    "import re\n",
    "\n",
    "def check(password):\n",
    "    if (6 <= len(password) <= 12 and\n",
    "        re.search(r\"[a-z]\", password) and\n",
    "        re.search(r\"[A-Z]\", password) and\n",
    "        re.search(r\"[0-9]\", password) and\n",
    "        re.search(r\"[$#@]\", password)):\n",
    "        return True\n",
    "    return False\n",
    "\n",
    "if __name__ == \"__main__\":\n",
    "    input_data = input(\"i/p(comma-separated):\").strip()\n",
    "    \n",
    "    passwords = input_data.split(',')\n",
    "    \n",
    "    valid_passwords = [password for password in passwords if check(password)]\n",
    "    \n",
    "    print(\",\".join(valid_passwords))\n"
   ]
  },
  {
   "cell_type": "markdown",
   "metadata": {},
   "source": [
    "Question 9:\n",
    "You are required to write a program to sort the (name, age, height) tuples by ascending order where name is string, age and height are numbers. The tuples are input by console. The sort criteria is:\n",
    "1: Sort based on name;\n",
    "2: Then sort based on age;\n",
    "3: Then sort by score.\n",
    "The priority is that name > age > score.\n",
    "Expected Input:\n",
    "Tom,19,80\n",
    "John,20,90\n",
    "Jony,17,91\n",
    "Jony,17,93\n",
    "Json,21,85\n",
    "Expected Output:\n",
    "[('John', '20', '90'), ('Jony', '17', '91'), ('Jony', '17', '93'), ('Json', '21', '85'), ('Tom', '19', '80')]\n",
    "Note:\n",
    "In case of taking data from the user, it should be in a comma-separated form.\n"
   ]
  },
  {
   "cell_type": "code",
   "execution_count": null,
   "metadata": {},
   "outputs": [
    {
     "name": "stdout",
     "output_type": "stream",
     "text": [
      "[('John', '20', '90'), ('Jony', '17', '91'), ('Jony', '17', '93'), ('Json', '21', '85'), ('Tom', '19', '80')]\n"
     ]
    }
   ],
   "source": [
    "def sort_tuples(tuples):\n",
    "    return sorted(tuples, key=lambda x: (x[0], int(x[1]), int(x[2])))\n",
    "\n",
    "if __name__ == \"__main__\":\n",
    "    input_data = input(\"Enter tuples (comma-separated, each tuple as 'name,age,height'): \").strip()\n",
    "    \n",
    "    items = input_data.split(',')\n",
    "    tuples = [(items[i], items[i+1], items[i+2]) for i in range(0, len(items), 3)]\n",
    "    \n",
    "    sorted_tuples = sort_tuples(tuples)\n",
    "    \n",
    "    print(sorted_tuples)\n"
   ]
  },
  {
   "cell_type": "markdown",
   "metadata": {},
   "source": [
    "Question 10:\n",
    "A robot moves in a plane starting from the original point (0,0). The robot can move toward UP, DOWN, LEFT and RIGHT with a given steps.\n",
    "The numbers after the direction are steps.  \n",
    "The trace of robot movement is shown as the following:\n",
    "Expected Input:\n",
    "UP 5\n",
    "DOWN 3\n",
    "LEFT 3\n",
    "RIGHT 2\n",
    "Expected Output:\n",
    "Compute the distance from current position after a sequence of movement and original point. If the distance is a float, then just print the nearest integer.\n",
    "Note:\n",
    "In case of taking data from the user, it should be in a comma-separated form.\n"
   ]
  },
  {
   "cell_type": "code",
   "execution_count": null,
   "metadata": {},
   "outputs": [
    {
     "name": "stdout",
     "output_type": "stream",
     "text": [
      "2\n"
     ]
    }
   ],
   "source": [
    "import math\n",
    "\n",
    "def dst(movements):\n",
    "    x, y = 0, 0\n",
    "    for movement in movements:\n",
    "        direction, steps = movement.split()\n",
    "        steps = int(steps)\n",
    "        if direction == \"UP\":\n",
    "            y += steps\n",
    "        elif direction == \"DOWN\":\n",
    "            y -= steps\n",
    "        elif direction == \"LEFT\":\n",
    "            x -= steps\n",
    "        elif direction == \"RIGHT\":\n",
    "            x += steps\n",
    "    return round(math.sqrt(x**2 + y**2))\n",
    "\n",
    "if __name__ == \"__main__\":\n",
    "    input_data = input(\"Enter movements (comma-separated): \").strip()\n",
    "    \n",
    "    movements = input_data.split(',')\n",
    "    \n",
    "    distance = dst(movements)\n",
    "    \n",
    "    print(distance)\n"
   ]
  },
  {
   "cell_type": "markdown",
   "metadata": {},
   "source": [
    "Question 11:\n",
    "Find the continuous occurrence of the string.\n",
    "Expected Input:\n",
    "Aabbcdeefffaabbcc\n",
    "Expected Output:\n",
    "a2b2c1d1e2f3a2b2c2\n"
   ]
  },
  {
   "cell_type": "code",
   "execution_count": null,
   "metadata": {},
   "outputs": [
    {
     "name": "stdout",
     "output_type": "stream",
     "text": [
      "A1a1b2c1d1e2f3a2b2c2\n"
     ]
    }
   ],
   "source": [
    "def conti(s):\n",
    "    result = []\n",
    "    count = 1\n",
    "    \n",
    "    for i in range(1, len(s)):\n",
    "        if s[i] == s[i-1]:\n",
    "            count += 1\n",
    "        else:\n",
    "            result.append(f\"{s[i-1]}{count}\")\n",
    "            count = 1\n",
    "    \n",
    "    result.append(f\"{s[-1]}{count}\")\n",
    "    \n",
    "    return \"\".join(result)\n",
    "\n",
    "if __name__ == \"__main__\":\n",
    "    input_data = input(\"Enter the string: \").strip()\n",
    "    \n",
    "    output = conti(input_data)\n",
    "    \n",
    "    print(output)\n"
   ]
  },
  {
   "cell_type": "markdown",
   "metadata": {},
   "source": [
    "Question 12:\n",
    "Find the pair of alphabets in an alphanumeric string whose sum of numbers in between is always 9\n",
    "Expected Input 1:\n",
    "a54b12c\n",
    "Expected Output:\n",
    "a,b\n",
    "Expected Input 2:\n",
    "a55b234cd9f63de54x3m\n",
    "Expected Output:\n",
    "b,c\n",
    "b,d\n",
    "d,f\n",
    "f,d\n",
    "f,e\n",
    "e,x\n"
   ]
  },
  {
   "cell_type": "code",
   "execution_count": null,
   "metadata": {},
   "outputs": [],
   "source": [
    "##doubt "
   ]
  },
  {
   "cell_type": "markdown",
   "metadata": {},
   "source": [
    "Question 13:\n",
    "\n",
    "Find how many pairs in a binary number that starts and ends with 1\n",
    "Expected Input 1:\n",
    "100101\n",
    "Expected Output:\n",
    "2\n",
    "Expected Input 2:\n",
    "1001101010010\n",
    "Expected Output:\n",
    "15\n"
   ]
  },
  {
   "cell_type": "code",
   "execution_count": null,
   "metadata": {},
   "outputs": [
    {
     "name": "stdout",
     "output_type": "stream",
     "text": [
      "15\n"
     ]
    }
   ],
   "source": [
    "def count_pairs(s):\n",
    "    ones_indices = [i for i, char in enumerate(s) if char == '1']\n",
    "    count = 0\n",
    "\n",
    "    for i in range(len(ones_indices)):\n",
    "        for j in range(i + 1, len(ones_indices)):\n",
    "            count += 1\n",
    "    \n",
    "    return count\n",
    "\n",
    "if __name__ == \"__main__\":\n",
    "    input_data = input(\"i/p:-\").strip()\n",
    "    \n",
    "    output_count = count_pairs(input_data)\n",
    "    \n",
    "    print(output_count)\n"
   ]
  },
  {
   "cell_type": "markdown",
   "metadata": {},
   "source": [
    "Question 14:\n",
    "Find the minimum possible denominations for given valid currency.\n",
    "(No of currencies used should be minimum)\n",
    "Expected Input 1:\n",
    "valid_currency: [1,2,5,10,20,50,100,200,500,2000]\n",
    "Money: 210\n",
    "Expected Output:\n",
    "200-1\n",
    "10-1\n",
    "Expected Input 2:\n",
    "valid_currency: [1,2,5,10,20,50,100,200,500]\n",
    "Money: 556\n",
    "Expected Output:\n",
    "500-1\n",
    "50-1\n",
    "5-1\n",
    "1-1\n",
    "Expected Input 3:\n",
    "valid_currency: [1,2,5,10,20,50,100,200,500,2000]\n",
    "Money: 2000\n",
    "Expected Output:\n",
    "2000-1\n",
    "Expected Input 4:\n",
    "valid_currency: [1,2,5,10,20,50,100,500,1000]\n",
    "Money: 210\n",
    "Expected Output:\n",
    "100-2\n",
    "10-1\n",
    "Expected Input 5:\n",
    "valid_currency: [1,2,5,10,20,50,100,200,500,1000]\n",
    "Money: 2000\n",
    "Expected Output:\n",
    "1000-2\n",
    "\n"
   ]
  },
  {
   "cell_type": "code",
   "execution_count": null,
   "metadata": {},
   "outputs": [
    {
     "name": "stdout",
     "output_type": "stream",
     "text": [
      "2000-28\n",
      "500-1\n",
      "200-1\n",
      "50-1\n",
      "20-1\n",
      "10-1\n"
     ]
    }
   ],
   "source": [
    "def find_minimum_deno(valid_currency, money):\n",
    "    valid_currency.sort(reverse=True)\n",
    "    \n",
    "    result = []\n",
    "    for denomination in valid_currency:\n",
    "        count = money // denomination\n",
    "        if count > 0:\n",
    "            result.append((denomination, count))\n",
    "            money -= denomination * count\n",
    "        if money == 0:\n",
    "            break\n",
    "    \n",
    "    return result\n",
    "\n",
    "def get_user_input():\n",
    "    valid_currency = input(\"i/p(comma-separated):\").strip()\n",
    "    valid_currency = list(map(int, valid_currency.split(',')))\n",
    "    \n",
    "    money = int(input(\"Enter the amount of money:\").strip())\n",
    "    \n",
    "    return valid_currency, money\n",
    "\n",
    "if __name__ == \"__main__\":\n",
    "    valid_currency, money = get_user_input()\n",
    "    \n",
    "    result = find_minimum_deno(valid_currency, money)\n",
    "    \n",
    "    for denom, count in result:\n",
    "        print(f\"{denom}-{count}\")\n"
   ]
  },
  {
   "cell_type": "markdown",
   "metadata": {},
   "source": [
    "Question 15:\n",
    "There is a bus travelling from Town A to Town B. There are n stops between them and bus has to make m stops.\n",
    "Find the numbery of ways in the travel so that no stop is consecutive\n",
    "Expected Input 1:\n",
    "n=12\n",
    "m=4\n",
    "Expected Output:\n",
    "Output :126\n",
    "Expected Input 2:\n",
    "n = 16\n",
    "s = 5\n",
    "Expected Output:\n",
    "792\n"
   ]
  },
  {
   "cell_type": "code",
   "execution_count": null,
   "metadata": {},
   "outputs": [
    {
     "name": "stdout",
     "output_type": "stream",
     "text": [
      "Output: 792\n"
     ]
    }
   ],
   "source": [
    "from math import comb\n",
    "\n",
    "def count(n, m):\n",
    "    return comb(n - m + 1, m)\n",
    "\n",
    "if __name__ == \"__main__\":\n",
    "    n = int(input(\"stops (n):\").strip())\n",
    "    m = int(input(\"bus stoppage(m):\").strip())\n",
    "    \n",
    "    result = count(n, m)\n",
    "    \n",
    "    print(\"Output:\", result)\n"
   ]
  },
  {
   "cell_type": "markdown",
   "metadata": {},
   "source": [
    "Question 16:\n",
    "A gaming company wants to create an App with multiple games. \n",
    "The instruction of the games is given. You are asked to write the code to prepare the games,\n",
    "Where inputs will be taken from users. Once the gaming algorithm is prepared then it can be associated with production interface of the App.\n",
    "\n",
    "Game: Stone Paper Scissor Cut\n",
    "    \n",
    "Each win of a player will be counted as a one point for the player. \n",
    "The game continues until any of the player scores 5.\n",
    "\n",
    "Expected Input:       Expected Output:\n",
    "Player A   Player B    \t\tResult\n",
    "Stone       Stone      \t\tDRAW\n",
    "Stone       Paper   \t\tPlayer B wins\n",
    "Stone       Scissor \t\tPlayer A wins\n",
    "Paper       Stone   \t\tPlayer A wins\n",
    "Paper       Paper   \t\tDRAW\n",
    "Paper       Scissor \t\tPlayer B wins\n",
    "Scissor     Scissor \t\tDRAW\n",
    "Scissor     Stone   \t\tPlayer B wins\n",
    "Scissor     Paper   \t\tPlayer A wins\n"
   ]
  },
  {
   "cell_type": "code",
   "execution_count": 1,
   "metadata": {},
   "outputs": [
    {
     "name": "stdout",
     "output_type": "stream",
     "text": [
      "Invalid input, please enter 'Stone', 'Paper' or 'Scissor'.\n",
      "Invalid input, please enter 'Stone', 'Paper' or 'Scissor'.\n",
      "Player A: Stone | Player B: Stone | Result: DRAW\n",
      "Current Scores -> Player A: 0 | Player B: 0\n",
      "Player A: Stone | Player B: Paper | Result: Player B wins\n",
      "Current Scores -> Player A: 0 | Player B: 1\n",
      "Player A: Paper | Player B: Scissor | Result: Player B wins\n",
      "Current Scores -> Player A: 0 | Player B: 2\n",
      "Invalid input, please enter 'Stone', 'Paper' or 'Scissor'.\n",
      "Invalid input, please enter 'Stone', 'Paper' or 'Scissor'.\n",
      "Invalid input, please enter 'Stone', 'Paper' or 'Scissor'.\n",
      "Player A: Paper | Player B: Paper | Result: DRAW\n",
      "Current Scores -> Player A: 0 | Player B: 2\n"
     ]
    },
    {
     "ename": "KeyboardInterrupt",
     "evalue": "Interrupted by user",
     "output_type": "error",
     "traceback": [
      "\u001b[1;31m---------------------------------------------------------------------------\u001b[0m",
      "\u001b[1;31mKeyboardInterrupt\u001b[0m                         Traceback (most recent call last)",
      "Cell \u001b[1;32mIn[1], line 41\u001b[0m\n\u001b[0;32m     38\u001b[0m         \u001b[38;5;28mprint\u001b[39m(\u001b[38;5;124m\"\u001b[39m\u001b[38;5;124mPlayer B wins the game!\u001b[39m\u001b[38;5;124m\"\u001b[39m)\n\u001b[0;32m     40\u001b[0m \u001b[38;5;28;01mif\u001b[39;00m \u001b[38;5;18m__name__\u001b[39m \u001b[38;5;241m==\u001b[39m \u001b[38;5;124m\"\u001b[39m\u001b[38;5;124m__main__\u001b[39m\u001b[38;5;124m\"\u001b[39m:\n\u001b[1;32m---> 41\u001b[0m     \u001b[43mmain\u001b[49m\u001b[43m(\u001b[49m\u001b[43m)\u001b[49m\n",
      "Cell \u001b[1;32mIn[1], line 17\u001b[0m, in \u001b[0;36mmain\u001b[1;34m()\u001b[0m\n\u001b[0;32m     15\u001b[0m \u001b[38;5;28;01mwhile\u001b[39;00m score_a \u001b[38;5;241m<\u001b[39m \u001b[38;5;241m5\u001b[39m \u001b[38;5;129;01mand\u001b[39;00m score_b \u001b[38;5;241m<\u001b[39m \u001b[38;5;241m5\u001b[39m:\n\u001b[0;32m     16\u001b[0m     player_a_choice \u001b[38;5;241m=\u001b[39m \u001b[38;5;28minput\u001b[39m(\u001b[38;5;124m\"\u001b[39m\u001b[38;5;124mPlayer A, enter your choice (Stone, Paper, Scissor): \u001b[39m\u001b[38;5;124m\"\u001b[39m)\n\u001b[1;32m---> 17\u001b[0m     player_b_choice \u001b[38;5;241m=\u001b[39m \u001b[38;5;28;43minput\u001b[39;49m\u001b[43m(\u001b[49m\u001b[38;5;124;43m\"\u001b[39;49m\u001b[38;5;124;43mPlayer B, enter your choice (Stone, Paper, Scissor): \u001b[39;49m\u001b[38;5;124;43m\"\u001b[39;49m\u001b[43m)\u001b[49m\n\u001b[0;32m     19\u001b[0m     \u001b[38;5;28;01mif\u001b[39;00m player_a_choice \u001b[38;5;129;01mnot\u001b[39;00m \u001b[38;5;129;01min\u001b[39;00m [\u001b[38;5;124m\"\u001b[39m\u001b[38;5;124mStone\u001b[39m\u001b[38;5;124m\"\u001b[39m, \u001b[38;5;124m\"\u001b[39m\u001b[38;5;124mPaper\u001b[39m\u001b[38;5;124m\"\u001b[39m, \u001b[38;5;124m\"\u001b[39m\u001b[38;5;124mScissor\u001b[39m\u001b[38;5;124m\"\u001b[39m] \u001b[38;5;129;01mor\u001b[39;00m player_b_choice \u001b[38;5;129;01mnot\u001b[39;00m \u001b[38;5;129;01min\u001b[39;00m [\u001b[38;5;124m\"\u001b[39m\u001b[38;5;124mStone\u001b[39m\u001b[38;5;124m\"\u001b[39m, \u001b[38;5;124m\"\u001b[39m\u001b[38;5;124mPaper\u001b[39m\u001b[38;5;124m\"\u001b[39m, \u001b[38;5;124m\"\u001b[39m\u001b[38;5;124mScissor\u001b[39m\u001b[38;5;124m\"\u001b[39m]:\n\u001b[0;32m     20\u001b[0m         \u001b[38;5;28mprint\u001b[39m(\u001b[38;5;124m\"\u001b[39m\u001b[38;5;124mInvalid input, please enter \u001b[39m\u001b[38;5;124m'\u001b[39m\u001b[38;5;124mStone\u001b[39m\u001b[38;5;124m'\u001b[39m\u001b[38;5;124m, \u001b[39m\u001b[38;5;124m'\u001b[39m\u001b[38;5;124mPaper\u001b[39m\u001b[38;5;124m'\u001b[39m\u001b[38;5;124m or \u001b[39m\u001b[38;5;124m'\u001b[39m\u001b[38;5;124mScissor\u001b[39m\u001b[38;5;124m'\u001b[39m\u001b[38;5;124m.\u001b[39m\u001b[38;5;124m\"\u001b[39m)\n",
      "File \u001b[1;32mc:\\Users\\SRIVATSAL NARAYAN\\anaconda3\\envs\\myenv\\lib\\site-packages\\ipykernel\\kernelbase.py:1202\u001b[0m, in \u001b[0;36mKernel.raw_input\u001b[1;34m(self, prompt)\u001b[0m\n\u001b[0;32m   1200\u001b[0m     msg \u001b[38;5;241m=\u001b[39m \u001b[38;5;124m\"\u001b[39m\u001b[38;5;124mraw_input was called, but this frontend does not support input requests.\u001b[39m\u001b[38;5;124m\"\u001b[39m\n\u001b[0;32m   1201\u001b[0m     \u001b[38;5;28;01mraise\u001b[39;00m StdinNotImplementedError(msg)\n\u001b[1;32m-> 1202\u001b[0m \u001b[38;5;28;01mreturn\u001b[39;00m \u001b[38;5;28;43mself\u001b[39;49m\u001b[38;5;241;43m.\u001b[39;49m\u001b[43m_input_request\u001b[49m\u001b[43m(\u001b[49m\n\u001b[0;32m   1203\u001b[0m \u001b[43m    \u001b[49m\u001b[38;5;28;43mstr\u001b[39;49m\u001b[43m(\u001b[49m\u001b[43mprompt\u001b[49m\u001b[43m)\u001b[49m\u001b[43m,\u001b[49m\n\u001b[0;32m   1204\u001b[0m \u001b[43m    \u001b[49m\u001b[38;5;28;43mself\u001b[39;49m\u001b[38;5;241;43m.\u001b[39;49m\u001b[43m_parent_ident\u001b[49m\u001b[43m[\u001b[49m\u001b[38;5;124;43m\"\u001b[39;49m\u001b[38;5;124;43mshell\u001b[39;49m\u001b[38;5;124;43m\"\u001b[39;49m\u001b[43m]\u001b[49m\u001b[43m,\u001b[49m\n\u001b[0;32m   1205\u001b[0m \u001b[43m    \u001b[49m\u001b[38;5;28;43mself\u001b[39;49m\u001b[38;5;241;43m.\u001b[39;49m\u001b[43mget_parent\u001b[49m\u001b[43m(\u001b[49m\u001b[38;5;124;43m\"\u001b[39;49m\u001b[38;5;124;43mshell\u001b[39;49m\u001b[38;5;124;43m\"\u001b[39;49m\u001b[43m)\u001b[49m\u001b[43m,\u001b[49m\n\u001b[0;32m   1206\u001b[0m \u001b[43m    \u001b[49m\u001b[43mpassword\u001b[49m\u001b[38;5;241;43m=\u001b[39;49m\u001b[38;5;28;43;01mFalse\u001b[39;49;00m\u001b[43m,\u001b[49m\n\u001b[0;32m   1207\u001b[0m \u001b[43m\u001b[49m\u001b[43m)\u001b[49m\n",
      "File \u001b[1;32mc:\\Users\\SRIVATSAL NARAYAN\\anaconda3\\envs\\myenv\\lib\\site-packages\\ipykernel\\kernelbase.py:1245\u001b[0m, in \u001b[0;36mKernel._input_request\u001b[1;34m(self, prompt, ident, parent, password)\u001b[0m\n\u001b[0;32m   1242\u001b[0m \u001b[38;5;28;01mexcept\u001b[39;00m \u001b[38;5;167;01mKeyboardInterrupt\u001b[39;00m:\n\u001b[0;32m   1243\u001b[0m     \u001b[38;5;66;03m# re-raise KeyboardInterrupt, to truncate traceback\u001b[39;00m\n\u001b[0;32m   1244\u001b[0m     msg \u001b[38;5;241m=\u001b[39m \u001b[38;5;124m\"\u001b[39m\u001b[38;5;124mInterrupted by user\u001b[39m\u001b[38;5;124m\"\u001b[39m\n\u001b[1;32m-> 1245\u001b[0m     \u001b[38;5;28;01mraise\u001b[39;00m \u001b[38;5;167;01mKeyboardInterrupt\u001b[39;00m(msg) \u001b[38;5;28;01mfrom\u001b[39;00m \u001b[38;5;28;01mNone\u001b[39;00m\n\u001b[0;32m   1246\u001b[0m \u001b[38;5;28;01mexcept\u001b[39;00m \u001b[38;5;167;01mException\u001b[39;00m:\n\u001b[0;32m   1247\u001b[0m     \u001b[38;5;28mself\u001b[39m\u001b[38;5;241m.\u001b[39mlog\u001b[38;5;241m.\u001b[39mwarning(\u001b[38;5;124m\"\u001b[39m\u001b[38;5;124mInvalid Message:\u001b[39m\u001b[38;5;124m\"\u001b[39m, exc_info\u001b[38;5;241m=\u001b[39m\u001b[38;5;28;01mTrue\u001b[39;00m)\n",
      "\u001b[1;31mKeyboardInterrupt\u001b[0m: Interrupted by user"
     ]
    }
   ],
   "source": [
    "def get_winner(player_a_choice, player_b_choice):\n",
    "    if player_a_choice == player_b_choice:\n",
    "        return \"DRAW\"\n",
    "    elif (player_a_choice == \"Stone\" and player_b_choice == \"Scissor\") or \\\n",
    "         (player_a_choice == \"Paper\" and player_b_choice == \"Stone\") or \\\n",
    "         (player_a_choice == \"Scissor\" and player_b_choice == \"Paper\"):\n",
    "        return \"Player A wins\"\n",
    "    else:\n",
    "        return \"Player B wins\"\n",
    "\n",
    "def main():\n",
    "    score_a = 0\n",
    "    score_b = 0\n",
    "\n",
    "    while score_a <=1 and score_b <=1:\n",
    "        player_a_choice = input(\"Player A, enter your choice (Stone, Paper, Scissor): \")\n",
    "        player_b_choice = input(\"Player B, enter your choice (Stone, Paper, Scissor): \")\n",
    "\n",
    "        if player_a_choice not in [\"Stone\", \"Paper\", \"Scissor\"] or player_b_choice not in [\"Stone\", \"Paper\", \"Scissor\"]:\n",
    "            print(\"Invalid input, please enter 'Stone', 'Paper' or 'Scissor'.\")\n",
    "            continue\n",
    "\n",
    "        result = get_winner(player_a_choice, player_b_choice)\n",
    "        print(f\"Player A: {player_a_choice} | Player B: {player_b_choice} | Result: {result}\")\n",
    "\n",
    "        if result == \"Player A wins\":\n",
    "            score_a += 1\n",
    "        elif result == \"Player B wins\":\n",
    "            score_b += 1\n",
    "\n",
    "        # Print current scores\n",
    "        print(f\"Current Scores -> Player A: {score_a} | Player B: {score_b}\")\n",
    "\n",
    "    # Announce the final winner\n",
    "    if score_a == 1:\n",
    "        print(\"Player A wins the game!\")\n",
    "    else:\n",
    "        print(\"Player B wins the game!\")\n",
    "\n",
    "if __name__ == \"__main__\":\n",
    "    main()\n"
   ]
  },
  {
   "cell_type": "markdown",
   "metadata": {},
   "source": [
    "Question 17:\n",
    "Validate Email Address:\n",
    "     a. Check for '@' symbol, it should be only 1\n",
    "     b. Only lower-case letters are allowed\n",
    "     c. Numbers are allowed\n",
    "     e. No symbols allowed other than '.' & '_'\n",
    "\n"
   ]
  },
  {
   "cell_type": "code",
   "execution_count": 2,
   "metadata": {},
   "outputs": [
    {
     "name": "stdout",
     "output_type": "stream",
     "text": [
      "Valid email\n"
     ]
    }
   ],
   "source": [
    "import re\n",
    "\n",
    "def validate_email(email):\n",
    "    if email.count('@') != 1:\n",
    "        return \"Invalid email: There should be exactly one '@' symbol.\"\n",
    "\n",
    "    local, domain = email.split('@')\n",
    "\n",
    "    allowed_chars = re.compile(r'^[a-z0-9._]+$')\n",
    "\n",
    "    if not allowed_chars.match(local):\n",
    "        return \"Invalid email: Local part can only contain lower-case letters, numbers, '.', and '_'.\"\n",
    "    if not allowed_chars.match(domain):\n",
    "        return \"Invalid email: Domain part can only contain lower-case letters, numbers, '.', and '_'.\"\n",
    "\n",
    "    if '.' not in domain:\n",
    "        return \"Invalid email: Domain part must contain at least one '.'.\"\n",
    "\n",
    "    return \"Valid email\"\n",
    "\n",
    "email = input(\"Enter an email address to validate: \")\n",
    "result = validate_email(email)\n",
    "print(result)\n"
   ]
  },
  {
   "cell_type": "markdown",
   "metadata": {},
   "source": [
    "Solve the following patterns"
   ]
  },
  {
   "cell_type": "code",
   "execution_count": 1,
   "metadata": {},
   "outputs": [
    {
     "name": "stdout",
     "output_type": "stream",
     "text": [
      "1\n",
      "2 * 3\n",
      "4 * 5 * 6\n",
      "7 * 8 * 9 * 10\n"
     ]
    }
   ],
   "source": [
    "def generate_pattern(row_count):\n",
    "    current_number = 1  \n",
    "    for row in range(1, row_count + 1):\n",
    "        for col in range(row):\n",
    "            print(current_number, end='')\n",
    "            current_number += 1\n",
    "            if col < row - 1:  \n",
    "                print(' * ', end='')\n",
    "        print()  \n",
    "\n",
    "row_count = int(input(\"enter number\"))\n",
    "generate_pattern(row_count)\n"
   ]
  },
  {
   "cell_type": "code",
   "execution_count": 2,
   "metadata": {},
   "outputs": [
    {
     "name": "stdout",
     "output_type": "stream",
     "text": [
      "   *\n",
      "  * *\n",
      " * * *\n",
      "* * * *\n",
      " * * *\n",
      "  * *\n",
      "   *\n"
     ]
    }
   ],
   "source": [
    "def generate_pattern(row_count):\n",
    "    n = row_count\n",
    "\n",
    "    for i in range(n):\n",
    "        for j in range(n - i - 1):\n",
    "            print(\" \", end=\"\")\n",
    "        for j in range(i + 1):\n",
    "            print(\"*\", end=\"\")\n",
    "            if j < i:\n",
    "                print(\" \", end=\"\")\n",
    "        print()\n",
    "\n",
    "    for i in range(n - 1):\n",
    "        for j in range(i + 1):\n",
    "            print(\" \", end=\"\")\n",
    "        for j in range(n - i - 1):\n",
    "            print(\"*\", end=\"\")\n",
    "            if j < n - i - 2:\n",
    "                print(\" \", end=\"\")\n",
    "        print()\n",
    "\n",
    "row_count = int(input(\"i/p:-\"))\n",
    "generate_pattern(row_count)\n"
   ]
  },
  {
   "cell_type": "code",
   "execution_count": 3,
   "metadata": {},
   "outputs": [
    {
     "name": "stdout",
     "output_type": "stream",
     "text": [
      "1\n",
      "2 * 3\n",
      "4 * 5 * 6\n",
      "7 * 8 * 9 * 10\n",
      "4 * 5 * 6\n",
      "2 * 3\n",
      "1\n"
     ]
    }
   ],
   "source": [
    "def generate_pattern(row_count):\n",
    "    current_number = 1  \n",
    "    \n",
    "    pattern = []\n",
    "    \n",
    "    for row in range(1, row_count + 1):\n",
    "        row_pattern = []\n",
    "        for col in range(row):\n",
    "            row_pattern.append(str(current_number))\n",
    "            current_number += 1\n",
    "        pattern.append(\" * \".join(row_pattern))\n",
    "    \n",
    "    for row in pattern:\n",
    "        print(row)\n",
    "    \n",
    "    for row in reversed(pattern[:-1]):\n",
    "        print(row)\n",
    "\n",
    "row_count = int(input(\"i/p:-\"))\n",
    "generate_pattern(row_count)\n"
   ]
  },
  {
   "cell_type": "code",
   "execution_count": 60,
   "metadata": {},
   "outputs": [
    {
     "name": "stdout",
     "output_type": "stream",
     "text": [
      " *** \n",
      "*\n",
      "*\n",
      "* * * \n",
      "*      *\n",
      "*      *\n",
      " * * * \n"
     ]
    }
   ],
   "source": [
    "def generate_g_pattern(row_count):\n",
    "    if row_count < 3:\n",
    "        print(\"Row count must be at least 3 to form a recognizable 'G' pattern.\")\n",
    "        return\n",
    "    \n",
    "\n",
    "    \n",
    "    width = row_count//2\n",
    "    mid_row = row_count // 2\n",
    "    \n",
    "    for row in range(row_count):\n",
    "        if row == 0:\n",
    "            print(\" \" + \"*\" * (width) + \" \")\n",
    "        elif row < mid_row:\n",
    "            print(\"*\")\n",
    "        elif row == mid_row:\n",
    "            print(\"* \" * (width))\n",
    "        elif row < row_count - 1:\n",
    "            print(\"*\" + \" \" * (width+3) + \"*\")\n",
    "        else:\n",
    "            print(\" \"+\"* \" * (width))\n",
    "\n",
    "# Example usage\n",
    "row_count = 7\n",
    "generate_g_pattern(row_count)\n"
   ]
  },
  {
   "cell_type": "code",
   "execution_count": 62,
   "metadata": {},
   "outputs": [
    {
     "name": "stdout",
     "output_type": "stream",
     "text": [
      "1 1 1 1 1 1 1 \n",
      "0 0 0 1 0 0 0 \n",
      "0 0 0 1 0 0 0 \n",
      "0 0 0 1 0 0 0 \n",
      "0 0 0 1 0 0 0 \n",
      "0 0 0 1 0 0 0 \n",
      "1 1 1 1 1 1 1 \n"
     ]
    }
   ],
   "source": [
    "def generate_pattern(row_count):\n",
    "    if row_count % 2 == 0:\n",
    "        print(\"Row count must be an odd number.\")\n",
    "        return\n",
    "    \n",
    "    mid_index = row_count // 2  \n",
    "    \n",
    "    for row in range(row_count):\n",
    "        for col in range(row_count):\n",
    "            if row == 0 or row == row_count - 1:\n",
    "                print(\"1\", end=\" \")\n",
    "            elif col == mid_index:\n",
    "                print(\"1\", end=\" \")\n",
    "            else:\n",
    "                print(\"0\", end=\" \")\n",
    "        print()  \n",
    "\n",
    "row_count = 7\n",
    "generate_pattern(row_count)\n"
   ]
  },
  {
   "cell_type": "markdown",
   "metadata": {},
   "source": [
    "Q19>\n",
    "Cyclic rotation: \n",
    "\n",
    "Case 1: first element moves to last and rest all the elements move one step to left  \n",
    "Case 2: last element moves to first and rest all the element move  one step to right \n",
    "\n",
    "Input 1 Description: 1 - first to last  2- last to first\n",
    "Input 2 Description : string\n",
    "Input 3 Description : no of times\n",
    "Expected Input 1:\n",
    "1\n",
    "'happy'\n",
    "2\n",
    "Expected Output:\n",
    "Appyh\n",
    "ppyha\n",
    "Expected Input 2:\n",
    "2\n",
    "'happy'\n",
    "3\n",
    "Expected Output:\n",
    " yhapp\n",
    "pyhap\n"
   ]
  },
  {
   "cell_type": "code",
   "execution_count": 63,
   "metadata": {},
   "outputs": [
    {
     "name": "stdout",
     "output_type": "stream",
     "text": [
      "appyh\n",
      "ppyha\n"
     ]
    }
   ],
   "source": [
    "def cyclic_rotation(case, s, num_times):\n",
    "    result = s\n",
    "    for _ in range(num_times):\n",
    "        if case == 1:\n",
    "            result = result[1:] + result[0]\n",
    "        elif case == 2:\n",
    "            result = result[-1] + result[:-1]\n",
    "    return result\n",
    "\n",
    "def main():\n",
    "    case = int(input(\"Enter 1 for first-to-last rotation or 2 for last-to-first rotation: \"))\n",
    "    s = input(\"Enter the string: \")\n",
    "    num_times = int(input(\"Enter the number of times to rotate: \"))\n",
    "    \n",
    "    for _ in range(num_times):\n",
    "        s = cyclic_rotation(case, s, 1)\n",
    "        print(s)\n",
    "\n",
    "if __name__ == \"__main__\":\n",
    "    main()\n"
   ]
  },
  {
   "cell_type": "code",
   "execution_count": 1,
   "metadata": {},
   "outputs": [
    {
     "name": "stdout",
     "output_type": "stream",
     "text": [
      "Warning: Sugar level is not matching with the healthy value.\n",
      "The Sugar level is 41 more than the ideal value\n",
      "\n",
      "Warning: Blood pressure is not matching with the healthy value.\n",
      "The Blood pressure is 88 more than the ideal value\n",
      "\n",
      "Warning: Heartbeat rate is not matching with the healthy value.\n",
      "The Heartbeat rate is 26 less than the ideal value\n",
      "\n",
      "Warning: weight is not matching with the healthy value.\n",
      "The weight is 2 more than the ideal value\n",
      "\n",
      "Warning: fat percentage is not matching with the healthy value.\n",
      "The fat percentage is 57 more than the ideal value\n",
      "\n",
      "{'Sugar level': 41, 'Blood pressure': 88, 'Heartbeat rate': -26, 'weight': 2, 'fat percentage': 57}\n",
      "Sugar level 41\n",
      "The Sugar level is 41 more than the ideal value\n",
      "\n",
      "Blood pressure 88\n",
      "The Blood pressure is 88 more than the ideal value\n",
      "\n",
      "Heartbeat rate -26\n",
      "The Heartbeat rate is 26 less than the ideal value\n",
      "\n",
      "weight 2\n",
      "The weight is 2 more than the ideal value\n",
      "\n",
      "fat percentage 57\n",
      "The fat percentage is 57 more than the ideal value\n",
      "\n"
     ]
    }
   ],
   "source": [
    "healthy_patient = {\n",
    "    \"Sugar level\": 15,\n",
    "    \"Blood pressure\": 32,\n",
    "    \"Heartbeat rate\": 71,\n",
    "    \"weight\": 65,\n",
    "    \"fat percentage\": 10\n",
    "}\n",
    "\n",
    "def get_patient_data():\n",
    "    patient_data = {}\n",
    "    patient_data[\"Sugar level\"] = int(input(\"Enter Sugar level: \"))\n",
    "    patient_data[\"Blood pressure\"] = int(input(\"Enter Blood pressure: \"))\n",
    "    patient_data[\"Heartbeat rate\"] = int(input(\"Enter Heartbeat rate: \"))\n",
    "    patient_data[\"weight\"] = int(input(\"Enter weight: \"))\n",
    "    patient_data[\"fat percentage\"] = int(input(\"Enter fat percentage: \"))\n",
    "    return patient_data\n",
    "\n",
    "def compare_with_healthy(patient_data, healthy_data):\n",
    "    differences = {}\n",
    "    for key in healthy_data:\n",
    "        differences[key] = patient_data[key] - healthy_data[key]\n",
    "        if differences[key] != 0:\n",
    "            print(f\"The {key} is {abs(differences[key])} {'more' if differences[key] > 0 else 'less'} than the ideal value\\n\")\n",
    "    return differences\n",
    "\n",
    "def main():\n",
    "    patient_data = get_patient_data()\n",
    "    differences = compare_with_healthy(patient_data, healthy_patient)\n",
    "    print(differences)\n",
    "\n",
    "    for key in differences:\n",
    "        print(f\"{key} {differences[key]}\")\n",
    "        if differences[key] != 0:\n",
    "            print(f\"The {key} is {abs(differences[key])} {'more' if differences[key] > 0 else 'less'} than the ideal value\\n\")\n",
    "\n",
    "if __name__ == \"__main__\":\n",
    "    main()\n"
   ]
  },
  {
   "cell_type": "markdown",
   "metadata": {},
   "source": [
    "Q21>Armstrong nos"
   ]
  },
  {
   "cell_type": "code",
   "execution_count": 2,
   "metadata": {},
   "outputs": [
    {
     "name": "stdout",
     "output_type": "stream",
     "text": [
      "Not an Armstrong number\n"
     ]
    }
   ],
   "source": [
    "def is_armstrong_number(number):\n",
    "    num_str = str(number)\n",
    "    num_len = len(num_str)\n",
    "    \n",
    "    armstrong_sum = sum(int(digit) ** num_len for digit in num_str)\n",
    "    \n",
    "    if armstrong_sum == number:\n",
    "        return True\n",
    "    else:\n",
    "        return False\n",
    "\n",
    "def main():\n",
    "    number = int(input(\"i/p\"))\n",
    "    \n",
    "    if is_armstrong_number(number):\n",
    "        print(\"Armstrong number\")\n",
    "    else:\n",
    "        print(\"Not an Armstrong number\")\n",
    "\n",
    "if __name__ == \"__main__\":\n",
    "    main()\n"
   ]
  },
  {
   "cell_type": "code",
   "execution_count": 3,
   "metadata": {},
   "outputs": [
    {
     "name": "stdout",
     "output_type": "stream",
     "text": [
      "Binary representation: 11101010\n"
     ]
    }
   ],
   "source": [
    "def decimal_to_binary(number):\n",
    "    if number == 0:\n",
    "        return \"0\"\n",
    "    \n",
    "    binary_num = \"\"\n",
    "    while number > 0:\n",
    "        binary_num = str(number % 2) + binary_num\n",
    "        number = number // 2\n",
    "    \n",
    "    return binary_num\n",
    "\n",
    "def main():\n",
    "    number = int(input(\"i/p\"))\n",
    "    \n",
    "    binary_representation = decimal_to_binary(number)\n",
    "    print(f\"Binary representation: {binary_representation}\")\n",
    "\n",
    "if __name__ == \"__main__\":\n",
    "    main()\n"
   ]
  },
  {
   "cell_type": "code",
   "execution_count": 5,
   "metadata": {},
   "outputs": [
    {
     "name": "stdout",
     "output_type": "stream",
     "text": [
      "Perfect number\n"
     ]
    }
   ],
   "source": [
    "def is_perfect_number(number):\n",
    "    sum_of_divisors = sum(divisor for divisor in range(1, number) if number % divisor == 0)\n",
    "    \n",
    "    if sum_of_divisors == number:\n",
    "        return True\n",
    "    else:\n",
    "        return False\n",
    "\n",
    "def main():\n",
    "    number = int(input(\"Enter a number to check if it's a perfect number: \"))\n",
    "    \n",
    "    if is_perfect_number(number):\n",
    "        print(\"Perfect number\")\n",
    "    else:\n",
    "        print(\"Not a perfect number\")\n",
    "\n",
    "if __name__ == \"__main__\":\n",
    "    main()\n"
   ]
  },
  {
   "cell_type": "code",
   "execution_count": null,
   "metadata": {},
   "outputs": [],
   "source": []
  }
 ],
 "metadata": {
  "kernelspec": {
   "display_name": "myenv",
   "language": "python",
   "name": "python3"
  },
  "language_info": {
   "codemirror_mode": {
    "name": "ipython",
    "version": 3
   },
   "file_extension": ".py",
   "mimetype": "text/x-python",
   "name": "python",
   "nbconvert_exporter": "python",
   "pygments_lexer": "ipython3",
   "version": "3.8.17"
  }
 },
 "nbformat": 4,
 "nbformat_minor": 2
}
